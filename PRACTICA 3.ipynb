{
 "cells": [
  {
   "cell_type": "code",
   "execution_count": 34,
   "id": "699234fe-dcd6-4783-8ae7-04a484ed66d5",
   "metadata": {
    "tags": []
   },
   "outputs": [],
   "source": [
    "import pandas as pd\n",
    "import seaborn as sns\n",
    "import matplotlib.pyplot as plt\n",
    "import numpy as np\n"
   ]
  },
  {
   "cell_type": "code",
   "execution_count": 35,
   "id": "25ac4cde-debc-46b0-a77d-664dbe458040",
   "metadata": {
    "tags": []
   },
   "outputs": [],
   "source": [
    "# 1\n",
    "df= pd.read_csv(\"medical_examination.csv\")\n",
    "\n",
    "# 2\n",
    "df['overweight'] = None\n",
    "\n",
    "# 3\n",
    "\n",
    "\n",
    "# 4\n",
    "def draw_cat_plot():\n",
    "    # 5\n",
    "    df_cat = None\n",
    "\n",
    "\n",
    "    # 6\n",
    "    df_cat = None\n",
    "    \n",
    "\n",
    "    # 7\n",
    "\n",
    "\n",
    "\n",
    "    # 8\n",
    "    fig = None\n",
    "\n",
    "\n",
    "    # 9\n",
    "    fig.savefig('catplot.png')\n",
    "    return fig\n",
    "\n",
    "\n",
    "# 10\n",
    "def draw_heat_map():\n",
    "    # 11\n",
    "    df_heat = None\n",
    "\n",
    "    # 12\n",
    "    corr = None\n",
    "\n",
    "    # 13\n",
    "    mask = None\n",
    "\n",
    "\n",
    "\n",
    "    # 14\n",
    "    fig, ax = None\n",
    "\n",
    "    # 15\n",
    "\n",
    "\n",
    "\n",
    "    # 16\n",
    "    fig.savefig('heatmap.png')\n",
    "    return fig\n"
   ]
  },
  {
   "cell_type": "markdown",
   "id": "7c7ab9d7-ec99-4d5a-94eb-fa7c66270e00",
   "metadata": {},
   "source": [
    "Agregue una overweightcolumna a los datos. Para determinar si una persona tiene sobrepeso, primero calcule su IMC dividiendo su peso en kilogramos entre el cuadrado de su altura en metros. Si ese valor es > 25, la persona tiene sobrepeso. Use el valor 0de NO sobrepeso y el valor 1de sobrepeso."
   ]
  },
  {
   "cell_type": "code",
   "execution_count": 39,
   "id": "83922138-59f7-43e0-9cc5-95d4da6874d4",
   "metadata": {
    "tags": []
   },
   "outputs": [
    {
     "data": {
      "text/html": [
       "<div>\n",
       "<style scoped>\n",
       "    .dataframe tbody tr th:only-of-type {\n",
       "        vertical-align: middle;\n",
       "    }\n",
       "\n",
       "    .dataframe tbody tr th {\n",
       "        vertical-align: top;\n",
       "    }\n",
       "\n",
       "    .dataframe thead th {\n",
       "        text-align: right;\n",
       "    }\n",
       "</style>\n",
       "<table border=\"1\" class=\"dataframe\">\n",
       "  <thead>\n",
       "    <tr style=\"text-align: right;\">\n",
       "      <th></th>\n",
       "      <th>id</th>\n",
       "      <th>age</th>\n",
       "      <th>sex</th>\n",
       "      <th>height</th>\n",
       "      <th>weight</th>\n",
       "      <th>ap_hi</th>\n",
       "      <th>ap_lo</th>\n",
       "      <th>cholesterol</th>\n",
       "      <th>gluc</th>\n",
       "      <th>smoke</th>\n",
       "      <th>alco</th>\n",
       "      <th>active</th>\n",
       "      <th>cardio</th>\n",
       "      <th>overweight</th>\n",
       "    </tr>\n",
       "  </thead>\n",
       "  <tbody>\n",
       "    <tr>\n",
       "      <th>0</th>\n",
       "      <td>0</td>\n",
       "      <td>18393</td>\n",
       "      <td>2</td>\n",
       "      <td>168</td>\n",
       "      <td>62.0</td>\n",
       "      <td>110</td>\n",
       "      <td>80</td>\n",
       "      <td>1</td>\n",
       "      <td>1</td>\n",
       "      <td>0</td>\n",
       "      <td>0</td>\n",
       "      <td>1</td>\n",
       "      <td>0</td>\n",
       "      <td>0</td>\n",
       "    </tr>\n",
       "    <tr>\n",
       "      <th>1</th>\n",
       "      <td>1</td>\n",
       "      <td>20228</td>\n",
       "      <td>1</td>\n",
       "      <td>156</td>\n",
       "      <td>85.0</td>\n",
       "      <td>140</td>\n",
       "      <td>90</td>\n",
       "      <td>3</td>\n",
       "      <td>1</td>\n",
       "      <td>0</td>\n",
       "      <td>0</td>\n",
       "      <td>1</td>\n",
       "      <td>1</td>\n",
       "      <td>0</td>\n",
       "    </tr>\n",
       "    <tr>\n",
       "      <th>2</th>\n",
       "      <td>2</td>\n",
       "      <td>18857</td>\n",
       "      <td>1</td>\n",
       "      <td>165</td>\n",
       "      <td>64.0</td>\n",
       "      <td>130</td>\n",
       "      <td>70</td>\n",
       "      <td>3</td>\n",
       "      <td>1</td>\n",
       "      <td>0</td>\n",
       "      <td>0</td>\n",
       "      <td>0</td>\n",
       "      <td>1</td>\n",
       "      <td>0</td>\n",
       "    </tr>\n",
       "    <tr>\n",
       "      <th>3</th>\n",
       "      <td>3</td>\n",
       "      <td>17623</td>\n",
       "      <td>2</td>\n",
       "      <td>169</td>\n",
       "      <td>82.0</td>\n",
       "      <td>150</td>\n",
       "      <td>100</td>\n",
       "      <td>1</td>\n",
       "      <td>1</td>\n",
       "      <td>0</td>\n",
       "      <td>0</td>\n",
       "      <td>1</td>\n",
       "      <td>1</td>\n",
       "      <td>0</td>\n",
       "    </tr>\n",
       "    <tr>\n",
       "      <th>4</th>\n",
       "      <td>4</td>\n",
       "      <td>17474</td>\n",
       "      <td>1</td>\n",
       "      <td>156</td>\n",
       "      <td>56.0</td>\n",
       "      <td>100</td>\n",
       "      <td>60</td>\n",
       "      <td>1</td>\n",
       "      <td>1</td>\n",
       "      <td>0</td>\n",
       "      <td>0</td>\n",
       "      <td>0</td>\n",
       "      <td>0</td>\n",
       "      <td>0</td>\n",
       "    </tr>\n",
       "  </tbody>\n",
       "</table>\n",
       "</div>"
      ],
      "text/plain": [
       "   id    age  sex  height  weight  ap_hi  ap_lo  cholesterol  gluc  smoke  \\\n",
       "0   0  18393    2     168    62.0    110     80            1     1      0   \n",
       "1   1  20228    1     156    85.0    140     90            3     1      0   \n",
       "2   2  18857    1     165    64.0    130     70            3     1      0   \n",
       "3   3  17623    2     169    82.0    150    100            1     1      0   \n",
       "4   4  17474    1     156    56.0    100     60            1     1      0   \n",
       "\n",
       "   alco  active  cardio  overweight  \n",
       "0     0       1       0           0  \n",
       "1     0       1       1           0  \n",
       "2     0       0       1           0  \n",
       "3     0       1       1           0  \n",
       "4     0       0       0           0  "
      ]
     },
     "execution_count": 39,
     "metadata": {},
     "output_type": "execute_result"
    }
   ],
   "source": [
    "df.head()"
   ]
  },
  {
   "cell_type": "code",
   "execution_count": 37,
   "id": "f12cf3b4-e0e7-45ab-984d-d04954adf46b",
   "metadata": {
    "tags": []
   },
   "outputs": [],
   "source": [
    "IMC=df[\"weight\"]/(df[\"height\"]**2)"
   ]
  },
  {
   "cell_type": "code",
   "execution_count": 38,
   "id": "2b548fa1-1b30-49b2-a3d6-9a0dbafe501b",
   "metadata": {
    "tags": []
   },
   "outputs": [],
   "source": [
    "df[\"overweight\"]=(IMC>25).astype(int)"
   ]
  },
  {
   "cell_type": "markdown",
   "id": "91f8fb05-46bd-4a91-b159-fc049d5fc3c8",
   "metadata": {},
   "source": [
    "Normalice los datos estableciendo que 0 siempre sean buenos y 1 siempre malos. Si el valor de cholesterolo gluces 1, establezca el valor en 0. Si el valor es mayor que 1, establezca el valor en 1."
   ]
  },
  {
   "cell_type": "code",
   "execution_count": 40,
   "id": "21e92064-b6d0-487e-b378-243bf085a704",
   "metadata": {
    "tags": []
   },
   "outputs": [],
   "source": [
    "df[\"cholesterol\"]=(df[\"cholesterol\"]>1).astype(int)"
   ]
  },
  {
   "cell_type": "code",
   "execution_count": 41,
   "id": "8edea12b-8f21-43a1-86ab-4ea4ff4ba5fd",
   "metadata": {
    "tags": []
   },
   "outputs": [],
   "source": [
    "df[\"gluc\"]=(df[\"gluc\"]>1).astype(int)"
   ]
  },
  {
   "cell_type": "markdown",
   "id": "a432b34e-d28c-43ca-8199-be8e32d563e1",
   "metadata": {},
   "source": [
    "Dibuje la gráfica categórica en la draw_cat_plotfunción."
   ]
  },
  {
   "cell_type": "code",
   "execution_count": null,
   "id": "05e5f5b0-41d8-4c97-9dc5-2e47a96feae5",
   "metadata": {},
   "outputs": [],
   "source": [
    "def draw_cat_plot(df):\n",
    "    # Crear un DataFrame para el gráfico categórico\n",
    "    df_cat = pd.melt(\n",
    "        df,\n",
    "        id_vars=[\"cardio\"],  # Variable de resultado\n",
    "        value_vars=[\"cholesterol\", \"gluc\", \"smoke\", \"alco\", \"active\"]\n",
    "    )\n",
    "\n",
    "    # Agrupar y contar los valores\n",
    "    df_cat = df_cat.groupby([\"cardio\", \"variable\", \"value\"]).size().reset_index(name=\"total\")\n",
    "\n",
    "    # Dibujar el gráfico categórico\n",
    "    fig = sns.catplot(\n",
    "        data=df_cat,\n",
    "        kind=\"bar\",\n",
    "        x=\"variable\",\n",
    "        y=\"total\",\n",
    "        hue=\"value\",\n",
    "        col=\"cardio\"\n",
    "    ).fig\n",
    "\n",
    "    return fig\n"
   ]
  }
 ],
 "metadata": {
  "kernelspec": {
   "display_name": "Python 3 (ipykernel)",
   "language": "python",
   "name": "python3"
  },
  "language_info": {
   "codemirror_mode": {
    "name": "ipython",
    "version": 3
   },
   "file_extension": ".py",
   "mimetype": "text/x-python",
   "name": "python",
   "nbconvert_exporter": "python",
   "pygments_lexer": "ipython3",
   "version": "3.11.5"
  }
 },
 "nbformat": 4,
 "nbformat_minor": 5
}
