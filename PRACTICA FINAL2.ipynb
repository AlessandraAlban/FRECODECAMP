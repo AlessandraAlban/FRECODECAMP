{
 "cells": [
  {
   "cell_type": "code",
   "execution_count": 10,
   "id": "41af4495-44f9-4bbe-9657-896c42cb87ef",
   "metadata": {
    "tags": []
   },
   "outputs": [],
   "source": [
    "import pandas as pd\n",
    "\n",
    "\n",
    "def calculate_demographic_data(print_data=True):\n",
    "    # Read data from file\n",
    "    df= pd.read_csv(\"adult.data.csv\")\n",
    "    df.head()\n",
    "    df = None\n",
    "\n",
    "\n",
    "    # How many of each race are represented in this dataset? This should be a Pandas series with race names as the index labels.\n",
    "    race_count = None\n",
    "\n",
    "    # What is the average age of men?\n",
    "    average_age_men = None\n",
    "\n",
    "    # What is the percentage of people who have a Bachelor's degree?\n",
    "    percentage_bachelors = None\n",
    "\n",
    "    # What percentage of people with advanced education (`Bachelors`, `Masters`, or `Doctorate`) make more than 50K?\n",
    "    # What percentage of people without advanced education make more than 50K?\n",
    "\n",
    "    # with and without `Bachelors`, `Masters`, or `Doctorate`\n",
    "    higher_education = None\n",
    "    lower_education = None\n",
    "\n",
    "    # percentage with salary >50K\n",
    "    higher_education_rich = None\n",
    "    lower_education_rich = None\n",
    "\n",
    "    # What is the minimum number of hours a person works per week (hours-per-week feature)?\n",
    "    min_work_hours = None\n",
    "\n",
    "    # What percentage of the people who work the minimum number of hours per week have a salary of >50K?\n",
    "    num_min_workers = None\n",
    "\n",
    "    rich_percentage = None\n",
    "\n",
    "    # What country has the highest percentage of people that earn >50K?\n",
    "    highest_earning_country = None\n",
    "    highest_earning_country_percentage = None\n",
    "\n",
    "    # Identify the most popular occupation for those who earn >50K in India.\n",
    "    top_IN_occupation = None\n",
    "\n",
    "    # DO NOT MODIFY BELOW THIS LINE\n",
    "\n",
    "    if print_data:\n",
    "        print(\"Number of each race:\\n\", race_count) \n",
    "        print(\"Average age of men:\", average_age_men)\n",
    "        print(f\"Percentage with Bachelors degrees: {percentage_bachelors}%\")\n",
    "        print(f\"Percentage with higher education that earn >50K: {higher_education_rich}%\")\n",
    "        print(f\"Percentage without higher education that earn >50K: {lower_education_rich}%\")\n",
    "        print(f\"Min work time: {min_work_hours} hours/week\")\n",
    "        print(f\"Percentage of rich among those who work fewest hours: {rich_percentage}%\")\n",
    "        print(\"Country with highest percentage of rich:\", highest_earning_country)\n",
    "        print(f\"Highest percentage of rich people in country: {highest_earning_country_percentage}%\")\n",
    "        print(\"Top occupations in India:\", top_IN_occupation)\n",
    "\n",
    "    return {\n",
    "        'race_count': race_count,\n",
    "        'average_age_men': average_age_men,\n",
    "        'percentage_bachelors': percentage_bachelors,\n",
    "        'higher_education_rich': higher_education_rich,\n",
    "        'lower_education_rich': lower_education_rich,\n",
    "        'min_work_hours': min_work_hours,\n",
    "        'rich_percentage': rich_percentage,\n",
    "        'highest_earning_country': highest_earning_country,\n",
    "        'highest_earning_country_percentage':\n",
    "        highest_earning_country_percentage,\n",
    "        'top_IN_occupation': top_IN_occupation\n",
    "    }\n"
   ]
  },
  {
   "cell_type": "code",
   "execution_count": 34,
   "id": "408db748-c38a-46eb-9725-b569642d552c",
   "metadata": {
    "tags": []
   },
   "outputs": [],
   "source": [
    "import numpy as np\n",
    "import pandas as pd"
   ]
  },
  {
   "cell_type": "code",
   "execution_count": 16,
   "id": "99846d13-7470-4f2f-9f0f-57ad90b0b321",
   "metadata": {
    "tags": []
   },
   "outputs": [],
   "source": [
    "df= pd.read_csv(\"adult.data.csv\")"
   ]
  },
  {
   "cell_type": "code",
   "execution_count": 26,
   "id": "a364b9ff-ad88-49bd-9734-f952db92b287",
   "metadata": {
    "tags": []
   },
   "outputs": [
    {
     "data": {
      "text/html": [
       "<div>\n",
       "<style scoped>\n",
       "    .dataframe tbody tr th:only-of-type {\n",
       "        vertical-align: middle;\n",
       "    }\n",
       "\n",
       "    .dataframe tbody tr th {\n",
       "        vertical-align: top;\n",
       "    }\n",
       "\n",
       "    .dataframe thead th {\n",
       "        text-align: right;\n",
       "    }\n",
       "</style>\n",
       "<table border=\"1\" class=\"dataframe\">\n",
       "  <thead>\n",
       "    <tr style=\"text-align: right;\">\n",
       "      <th></th>\n",
       "      <th>age</th>\n",
       "      <th>workclass</th>\n",
       "      <th>fnlwgt</th>\n",
       "      <th>education</th>\n",
       "      <th>education-num</th>\n",
       "      <th>marital-status</th>\n",
       "      <th>occupation</th>\n",
       "      <th>relationship</th>\n",
       "      <th>race</th>\n",
       "      <th>sex</th>\n",
       "      <th>capital-gain</th>\n",
       "      <th>capital-loss</th>\n",
       "      <th>hours-per-week</th>\n",
       "      <th>native-country</th>\n",
       "      <th>salary</th>\n",
       "    </tr>\n",
       "  </thead>\n",
       "  <tbody>\n",
       "    <tr>\n",
       "      <th>0</th>\n",
       "      <td>39</td>\n",
       "      <td>State-gov</td>\n",
       "      <td>77516</td>\n",
       "      <td>Bachelors</td>\n",
       "      <td>13</td>\n",
       "      <td>Never-married</td>\n",
       "      <td>Adm-clerical</td>\n",
       "      <td>Not-in-family</td>\n",
       "      <td>White</td>\n",
       "      <td>Male</td>\n",
       "      <td>2174</td>\n",
       "      <td>0</td>\n",
       "      <td>40</td>\n",
       "      <td>United-States</td>\n",
       "      <td>&lt;=50K</td>\n",
       "    </tr>\n",
       "    <tr>\n",
       "      <th>1</th>\n",
       "      <td>50</td>\n",
       "      <td>Self-emp-not-inc</td>\n",
       "      <td>83311</td>\n",
       "      <td>Bachelors</td>\n",
       "      <td>13</td>\n",
       "      <td>Married-civ-spouse</td>\n",
       "      <td>Exec-managerial</td>\n",
       "      <td>Husband</td>\n",
       "      <td>White</td>\n",
       "      <td>Male</td>\n",
       "      <td>0</td>\n",
       "      <td>0</td>\n",
       "      <td>13</td>\n",
       "      <td>United-States</td>\n",
       "      <td>&lt;=50K</td>\n",
       "    </tr>\n",
       "    <tr>\n",
       "      <th>2</th>\n",
       "      <td>38</td>\n",
       "      <td>Private</td>\n",
       "      <td>215646</td>\n",
       "      <td>HS-grad</td>\n",
       "      <td>9</td>\n",
       "      <td>Divorced</td>\n",
       "      <td>Handlers-cleaners</td>\n",
       "      <td>Not-in-family</td>\n",
       "      <td>White</td>\n",
       "      <td>Male</td>\n",
       "      <td>0</td>\n",
       "      <td>0</td>\n",
       "      <td>40</td>\n",
       "      <td>United-States</td>\n",
       "      <td>&lt;=50K</td>\n",
       "    </tr>\n",
       "    <tr>\n",
       "      <th>3</th>\n",
       "      <td>53</td>\n",
       "      <td>Private</td>\n",
       "      <td>234721</td>\n",
       "      <td>11th</td>\n",
       "      <td>7</td>\n",
       "      <td>Married-civ-spouse</td>\n",
       "      <td>Handlers-cleaners</td>\n",
       "      <td>Husband</td>\n",
       "      <td>Black</td>\n",
       "      <td>Male</td>\n",
       "      <td>0</td>\n",
       "      <td>0</td>\n",
       "      <td>40</td>\n",
       "      <td>United-States</td>\n",
       "      <td>&lt;=50K</td>\n",
       "    </tr>\n",
       "    <tr>\n",
       "      <th>4</th>\n",
       "      <td>28</td>\n",
       "      <td>Private</td>\n",
       "      <td>338409</td>\n",
       "      <td>Bachelors</td>\n",
       "      <td>13</td>\n",
       "      <td>Married-civ-spouse</td>\n",
       "      <td>Prof-specialty</td>\n",
       "      <td>Wife</td>\n",
       "      <td>Black</td>\n",
       "      <td>Female</td>\n",
       "      <td>0</td>\n",
       "      <td>0</td>\n",
       "      <td>40</td>\n",
       "      <td>Cuba</td>\n",
       "      <td>&lt;=50K</td>\n",
       "    </tr>\n",
       "  </tbody>\n",
       "</table>\n",
       "</div>"
      ],
      "text/plain": [
       "   age         workclass  fnlwgt  education  education-num  \\\n",
       "0   39         State-gov   77516  Bachelors             13   \n",
       "1   50  Self-emp-not-inc   83311  Bachelors             13   \n",
       "2   38           Private  215646    HS-grad              9   \n",
       "3   53           Private  234721       11th              7   \n",
       "4   28           Private  338409  Bachelors             13   \n",
       "\n",
       "       marital-status         occupation   relationship   race     sex  \\\n",
       "0       Never-married       Adm-clerical  Not-in-family  White    Male   \n",
       "1  Married-civ-spouse    Exec-managerial        Husband  White    Male   \n",
       "2            Divorced  Handlers-cleaners  Not-in-family  White    Male   \n",
       "3  Married-civ-spouse  Handlers-cleaners        Husband  Black    Male   \n",
       "4  Married-civ-spouse     Prof-specialty           Wife  Black  Female   \n",
       "\n",
       "   capital-gain  capital-loss  hours-per-week native-country salary  \n",
       "0          2174             0              40  United-States  <=50K  \n",
       "1             0             0              13  United-States  <=50K  \n",
       "2             0             0              40  United-States  <=50K  \n",
       "3             0             0              40  United-States  <=50K  \n",
       "4             0             0              40           Cuba  <=50K  "
      ]
     },
     "execution_count": 26,
     "metadata": {},
     "output_type": "execute_result"
    }
   ],
   "source": [
    "df.head()"
   ]
  },
  {
   "cell_type": "code",
   "execution_count": 19,
   "id": "2b97712c-abb0-43dd-b3a7-71137e71ecf9",
   "metadata": {
    "tags": []
   },
   "outputs": [],
   "source": [
    "race_count = None"
   ]
  },
  {
   "cell_type": "code",
   "execution_count": 22,
   "id": "a9fbd447-519c-4653-916e-e17323fcb4ae",
   "metadata": {
    "tags": []
   },
   "outputs": [
    {
     "data": {
      "text/plain": [
       "Index(['age', 'workclass', 'fnlwgt', 'education', 'education-num',\n",
       "       'marital-status', 'occupation', 'relationship', 'race', 'sex',\n",
       "       'capital-gain', 'capital-loss', 'hours-per-week', 'native-country',\n",
       "       'salary'],\n",
       "      dtype='object')"
      ]
     },
     "execution_count": 22,
     "metadata": {},
     "output_type": "execute_result"
    }
   ],
   "source": [
    "df"
   ]
  },
  {
   "cell_type": "markdown",
   "id": "60a150c7-acbb-4882-8bd4-6a47363967fb",
   "metadata": {
    "tags": []
   },
   "source": [
    "# How many of each race are represented in this dataset? This should be a Pandas series with race names as the index labels."
   ]
  },
  {
   "cell_type": "code",
   "execution_count": 35,
   "id": "12e24cba-988c-4865-86e7-583c9946132b",
   "metadata": {
    "tags": []
   },
   "outputs": [],
   "source": [
    "race=df[\"race\"]"
   ]
  },
  {
   "cell_type": "code",
   "execution_count": 43,
   "id": "7ae907b9-6d7b-40b7-ba32-46f7ba265208",
   "metadata": {
    "tags": []
   },
   "outputs": [
    {
     "data": {
      "text/plain": [
       "count     32561\n",
       "unique        5\n",
       "top       White\n",
       "freq      27816\n",
       "Name: race, dtype: object"
      ]
     },
     "execution_count": 43,
     "metadata": {},
     "output_type": "execute_result"
    }
   ],
   "source": [
    "race.describe()"
   ]
  },
  {
   "cell_type": "code",
   "execution_count": 48,
   "id": "6b7bee55-7e89-454f-bfd5-3e7e8d04862c",
   "metadata": {
    "tags": []
   },
   "outputs": [
    {
     "data": {
      "text/plain": [
       "race\n",
       "White                 27816\n",
       "Black                  3124\n",
       "Asian-Pac-Islander     1039\n",
       "Amer-Indian-Eskimo      311\n",
       "Other                   271\n",
       "Name: count, dtype: int64"
      ]
     },
     "execution_count": 48,
     "metadata": {},
     "output_type": "execute_result"
    }
   ],
   "source": [
    "race.value_counts()"
   ]
  },
  {
   "cell_type": "markdown",
   "id": "961bf075-e175-4e4f-a843-7ff7723b10c6",
   "metadata": {},
   "source": [
    "What is the average age of men?"
   ]
  },
  {
   "cell_type": "code",
   "execution_count": 49,
   "id": "00fdd6c3-62ad-47f5-8674-487c0cd94a86",
   "metadata": {
    "tags": []
   },
   "outputs": [
    {
     "data": {
      "text/plain": [
       "38.58164675532078"
      ]
     },
     "execution_count": 49,
     "metadata": {},
     "output_type": "execute_result"
    }
   ],
   "source": [
    "df[\"age\"].mean()"
   ]
  },
  {
   "cell_type": "markdown",
   "id": "1e61d2a0-1709-44b6-8c21-3bccc30ac906",
   "metadata": {},
   "source": [
    "What is the percentage of people who have a Bachelor's degree?\n",
    "Para obtener un porcentaje de un grupo \n",
    "(total del grupo A / total de la muestra)*100\n"
   ]
  },
  {
   "cell_type": "code",
   "execution_count": 55,
   "id": "efb9d6ce-192e-4e17-b48a-a8b166c4c579",
   "metadata": {
    "tags": []
   },
   "outputs": [],
   "source": [
    "total=len(df)"
   ]
  },
  {
   "cell_type": "code",
   "execution_count": 62,
   "id": "68c8bc8a-c55c-4d05-a2c6-c51da929413d",
   "metadata": {
    "tags": []
   },
   "outputs": [],
   "source": [
    "totalA= (df[\"education\"]==\"Bachelors\").sum()"
   ]
  },
  {
   "cell_type": "code",
   "execution_count": 65,
   "id": "f4311e4b-b4f4-437c-8bfe-61bee6ff1d98",
   "metadata": {
    "tags": []
   },
   "outputs": [],
   "source": [
    "porcentaje= (totalA/total)*100"
   ]
  },
  {
   "cell_type": "code",
   "execution_count": 66,
   "id": "722837c8-326e-457e-8c05-e876b057dee1",
   "metadata": {
    "tags": []
   },
   "outputs": [
    {
     "data": {
      "text/plain": [
       "16.44605509658794"
      ]
     },
     "execution_count": 66,
     "metadata": {},
     "output_type": "execute_result"
    }
   ],
   "source": [
    "porcentaje"
   ]
  },
  {
   "cell_type": "markdown",
   "id": "b5142991-7150-494e-8346-93fde80dc001",
   "metadata": {},
   "source": [
    "What percentage of people with advanced education (Bachelors, Masters, or Doctorate) make more than 50K?\n",
    "Dos condicionales : suma de personas con educacion avanzada Y que hacen más de 50 k "
   ]
  },
  {
   "cell_type": "code",
   "execution_count": 113,
   "id": "a3664d7a-c173-4e84-855b-8854b48409bc",
   "metadata": {
    "tags": []
   },
   "outputs": [],
   "source": [
    "sumA=((df[\"education\"].isin([\"Bachelors\",\"Masters\",\"Doctorate\"])) & (df[\"salary\"]==\">50K\")).sum()"
   ]
  },
  {
   "cell_type": "code",
   "execution_count": 114,
   "id": "bc22a1ad-33c5-42e4-aed8-c71bee817ba8",
   "metadata": {
    "tags": []
   },
   "outputs": [
    {
     "data": {
      "text/plain": [
       "3486"
      ]
     },
     "execution_count": 114,
     "metadata": {},
     "output_type": "execute_result"
    }
   ],
   "source": [
    "sumA"
   ]
  },
  {
   "cell_type": "code",
   "execution_count": 115,
   "id": "0303113f-bff0-486f-a03b-00e8e4de1f26",
   "metadata": {
    "tags": []
   },
   "outputs": [],
   "source": [
    "porcentaje2= (sumA/total)*100"
   ]
  },
  {
   "cell_type": "code",
   "execution_count": 116,
   "id": "c56b1263-2e63-47d4-84af-445da751e80a",
   "metadata": {
    "tags": []
   },
   "outputs": [
    {
     "data": {
      "text/plain": [
       "10.706059396210192"
      ]
     },
     "execution_count": 116,
     "metadata": {},
     "output_type": "execute_result"
    }
   ],
   "source": [
    "porcentaje2"
   ]
  },
  {
   "cell_type": "markdown",
   "id": "014f19ac-516d-485f-aded-04ee26720944",
   "metadata": {},
   "source": [
    "What percentage of people without advanced education make more than 50K?\n",
    "Del grupo total de personas sin educacion avanzada, quienes tienen más de 50k"
   ]
  },
  {
   "cell_type": "code",
   "execution_count": 117,
   "id": "709db9c8-c16f-4bf2-8540-f21287f9b4a8",
   "metadata": {
    "tags": []
   },
   "outputs": [],
   "source": [
    "sumB=((~df[\"education\"].isin([\"Bachelors\",\"Masters\",\"Doctorate\"])) & (df[\"salary\"]==\">50K\")).sum()"
   ]
  },
  {
   "cell_type": "code",
   "execution_count": 118,
   "id": "ff0beb70-817f-4149-8fef-ba0688d637a1",
   "metadata": {
    "tags": []
   },
   "outputs": [],
   "source": [
    "sumC=((~df[\"education\"].isin([\"Bachelors\",\"Masters\",\"Doctorate\"]))).sum()"
   ]
  },
  {
   "cell_type": "code",
   "execution_count": 120,
   "id": "d47e6f1b-1896-42e5-9324-90d9fc84127d",
   "metadata": {
    "tags": []
   },
   "outputs": [],
   "source": [
    "porcentaje3= (sumB/sumC)*100"
   ]
  },
  {
   "cell_type": "code",
   "execution_count": 121,
   "id": "82707aaf-8cab-4ec3-a1c0-322a3325688d",
   "metadata": {
    "tags": []
   },
   "outputs": [
    {
     "data": {
      "text/plain": [
       "17.3713601914639"
      ]
     },
     "execution_count": 121,
     "metadata": {},
     "output_type": "execute_result"
    }
   ],
   "source": [
    "porcentaje3"
   ]
  },
  {
   "cell_type": "code",
   "execution_count": 129,
   "id": "a1febbf6-44b7-4d10-bca8-cd3817fa6470",
   "metadata": {
    "tags": []
   },
   "outputs": [
    {
     "data": {
      "text/plain": [
       "1"
      ]
     },
     "execution_count": 129,
     "metadata": {},
     "output_type": "execute_result"
    }
   ],
   "source": [
    "df[\"hours-per-week\"].min()"
   ]
  },
  {
   "cell_type": "markdown",
   "id": "63af6072-bd1e-40c9-8ae6-b0e98a91943d",
   "metadata": {},
   "source": [
    "What percentage of the people who work the minimum number of hours per week have a salary of more than 50K?\n",
    "Intp: del grupo de personas que trabajan el numero minimo de horas, que porcentaje gana mas de 50 k "
   ]
  },
  {
   "cell_type": "code",
   "execution_count": 130,
   "id": "724ee7ed-c1a4-4d93-a81a-a5442f5c5382",
   "metadata": {
    "tags": []
   },
   "outputs": [],
   "source": [
    "sumD=((df[\"hours-per-week\"]==df[\"hours-per-week\"].min()) & (df[\"salary\"]==\">50k\")).sum()"
   ]
  },
  {
   "cell_type": "code",
   "execution_count": 132,
   "id": "1dd63bca-f3d3-438d-9a40-2d206109e8c6",
   "metadata": {
    "tags": []
   },
   "outputs": [],
   "source": [
    "sumt=((df[\"hours-per-week\"]==df[\"hours-per-week\"].min())).sum()"
   ]
  },
  {
   "cell_type": "code",
   "execution_count": 134,
   "id": "8a5fa7fa-115d-4a95-b1f0-fb5fd1acf46b",
   "metadata": {
    "tags": []
   },
   "outputs": [],
   "source": [
    "porcentaje4=(sumD/sumt)*100"
   ]
  },
  {
   "cell_type": "code",
   "execution_count": 135,
   "id": "739bff0b-459c-482e-bc6d-1e22cc5afdce",
   "metadata": {
    "tags": []
   },
   "outputs": [
    {
     "data": {
      "text/plain": [
       "0.0"
      ]
     },
     "execution_count": 135,
     "metadata": {},
     "output_type": "execute_result"
    }
   ],
   "source": [
    "porcentaje4"
   ]
  },
  {
   "cell_type": "markdown",
   "id": "851cc0f2-ffe8-4ddd-8b27-32a54ef2a9ec",
   "metadata": {},
   "source": [
    "What country has the highest percentage of people that earn >50K and what is that percentage?\n",
    "- Encontrar el país con el porcentaje mas alto de personas que gana >50k\n",
    "- ¿cual es el porcentaje?"
   ]
  },
  {
   "cell_type": "code",
   "execution_count": 153,
   "id": "2dc44333-5660-4216-8f32-5b0b105f3fe3",
   "metadata": {
    "tags": []
   },
   "outputs": [],
   "source": [
    "paísrico= df[df[\"salary\"]==\">50k\"],[\"native-country\",\"salary\"]"
   ]
  },
  {
   "cell_type": "code",
   "execution_count": 154,
   "id": "44d78df9-0b30-4333-849f-5f35b5e0b643",
   "metadata": {
    "tags": []
   },
   "outputs": [
    {
     "data": {
      "text/plain": [
       "(Empty DataFrame\n",
       " Columns: [age, workclass, fnlwgt, education, education-num, marital-status, occupation, relationship, race, sex, capital-gain, capital-loss, hours-per-week, native-country, salary]\n",
       " Index: [],\n",
       " ['native-country', 'salary'])"
      ]
     },
     "execution_count": 154,
     "metadata": {},
     "output_type": "execute_result"
    }
   ],
   "source": [
    "paísrico"
   ]
  },
  {
   "cell_type": "code",
   "execution_count": 155,
   "id": "e23a3582-7592-4596-871e-873cbcfc8d71",
   "metadata": {
    "tags": []
   },
   "outputs": [],
   "source": [
    "total_por_pais = df[\"native-country\"].value_counts()"
   ]
  },
  {
   "cell_type": "code",
   "execution_count": 156,
   "id": "6907f0d6-29cc-4907-8184-14d8b0a0e1ce",
   "metadata": {
    "tags": []
   },
   "outputs": [],
   "source": [
    "ricos_por_pais = df[df[\"salary\"] == \">50K\"][\"native-country\"].value_counts()"
   ]
  },
  {
   "cell_type": "code",
   "execution_count": 160,
   "id": "33dc0956-ddb5-457d-a9d1-75090f4f1a1a",
   "metadata": {
    "tags": []
   },
   "outputs": [],
   "source": [
    "porcentaje_ricos = (ricos_por_pais / total_por_pais) * 100\n",
    "porcentaje_ricos = porcentaje_ricos.sort_values(ascending=False)"
   ]
  },
  {
   "cell_type": "code",
   "execution_count": 161,
   "id": "061c6874-7284-453d-9c9b-c9f555d8f909",
   "metadata": {
    "tags": []
   },
   "outputs": [
    {
     "data": {
      "text/plain": [
       "native-country\n",
       "Iran                          41.860465\n",
       "France                        41.379310\n",
       "India                         40.000000\n",
       "Taiwan                        39.215686\n",
       "Japan                         38.709677\n",
       "Yugoslavia                    37.500000\n",
       "Cambodia                      36.842105\n",
       "Italy                         34.246575\n",
       "England                       33.333333\n",
       "Canada                        32.231405\n",
       "Germany                       32.116788\n",
       "Philippines                   30.808081\n",
       "Hong                          30.000000\n",
       "Greece                        27.586207\n",
       "China                         26.666667\n",
       "Cuba                          26.315789\n",
       "?                             25.042882\n",
       "Scotland                      25.000000\n",
       "United-States                 24.583476\n",
       "Hungary                       23.076923\n",
       "Ireland                       20.833333\n",
       "South                         20.000000\n",
       "Poland                        20.000000\n",
       "Thailand                      16.666667\n",
       "Ecuador                       14.285714\n",
       "Jamaica                       12.345679\n",
       "Laos                          11.111111\n",
       "Portugal                      10.810811\n",
       "Puerto-Rico                   10.526316\n",
       "Trinadad&Tobago               10.526316\n",
       "Haiti                          9.090909\n",
       "El-Salvador                    8.490566\n",
       "Honduras                       7.692308\n",
       "Vietnam                        7.462687\n",
       "Peru                           6.451613\n",
       "Nicaragua                      5.882353\n",
       "Mexico                         5.132193\n",
       "Guatemala                      4.687500\n",
       "Columbia                       3.389831\n",
       "Dominican-Republic             2.857143\n",
       "Holand-Netherlands                  NaN\n",
       "Outlying-US(Guam-USVI-etc)          NaN\n",
       "Name: count, dtype: float64"
      ]
     },
     "execution_count": 161,
     "metadata": {},
     "output_type": "execute_result"
    }
   ],
   "source": []
  },
  {
   "cell_type": "markdown",
   "id": "7751a186-1ff8-463d-af24-0024df6c3e19",
   "metadata": {},
   "source": [
    "Identify the most popular occupation for those who earn >50K in India.\n",
    "Primero identificar las ocupaciones en india\n",
    "2. identificar que ocupaciones ganan mas en india\n",
    "3. agruparlas de mayor a menor "
   ]
  },
  {
   "cell_type": "code",
   "execution_count": 173,
   "id": "dc56e47d-28bd-46eb-b6a5-1f57b5daa065",
   "metadata": {
    "tags": []
   },
   "outputs": [],
   "source": [
    "ocupaciones=df[(df[\"native-country\"]==\"India\") & (df[\"salary\"]==\">50k\")]"
   ]
  },
  {
   "cell_type": "code",
   "execution_count": 183,
   "id": "5199a418-67cb-49f3-b2b7-e3f3d5bb2c03",
   "metadata": {
    "tags": []
   },
   "outputs": [],
   "source": [
    "ocupation=ocupaciones[\"occupation\"].value_counts()"
   ]
  }
 ],
 "metadata": {
  "kernelspec": {
   "display_name": "Python 3 (ipykernel)",
   "language": "python",
   "name": "python3"
  },
  "language_info": {
   "codemirror_mode": {
    "name": "ipython",
    "version": 3
   },
   "file_extension": ".py",
   "mimetype": "text/x-python",
   "name": "python",
   "nbconvert_exporter": "python",
   "pygments_lexer": "ipython3",
   "version": "3.11.5"
  }
 },
 "nbformat": 4,
 "nbformat_minor": 5
}
